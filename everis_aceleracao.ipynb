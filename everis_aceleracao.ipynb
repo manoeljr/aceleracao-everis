{
  "nbformat": 4,
  "nbformat_minor": 0,
  "metadata": {
    "colab": {
      "name": "everis-aceleracao.ipynb",
      "provenance": [],
      "collapsed_sections": [
        "RNvJ3T-VBFjO",
        "8ava6rHYBPPt"
      ]
    },
    "kernelspec": {
      "name": "python3",
      "display_name": "Python 3"
    }
  },
  "cells": [
    {
      "cell_type": "markdown",
      "metadata": {
        "id": "RNvJ3T-VBFjO"
      },
      "source": [
        "### Class em python ==========="
      ]
    },
    {
      "cell_type": "code",
      "metadata": {
        "colab": {
          "base_uri": "https://localhost:8080/"
        },
        "id": "mTjGoMJ21W1C",
        "outputId": "66dc448c-c13b-4cb8-a8f4-f4a4fa43f839"
      },
      "source": [
        "def helloWorld():\n",
        "  name = 'Aceleração Gloval #4 - Everis'\n",
        "  print( name )\n",
        "\n",
        "helloWorld()"
      ],
      "execution_count": 1,
      "outputs": [
        {
          "output_type": "stream",
          "text": [
            "Aceleração Gloval #4 - Everis\n"
          ],
          "name": "stdout"
        }
      ]
    },
    {
      "cell_type": "code",
      "metadata": {
        "colab": {
          "base_uri": "https://localhost:8080/"
        },
        "id": "IbG-K3ti1ocx",
        "outputId": "4d20d17f-cd19-4a48-a7f0-629a36cbe974"
      },
      "source": [
        "def calcBalada( age ):\n",
        "      \n",
        "  if( age >= 18 ):\n",
        "    print('Beleza, pode entrar na balada');\n",
        "  else:\n",
        "    print('Vaza, volta aqui mais tarde !');\n",
        "\n",
        "calcBalada( 28 )"
      ],
      "execution_count": 2,
      "outputs": [
        {
          "output_type": "stream",
          "text": [
            "Beleza, pode entrar na balada\n"
          ],
          "name": "stdout"
        }
      ]
    },
    {
      "cell_type": "code",
      "metadata": {
        "colab": {
          "base_uri": "https://localhost:8080/"
        },
        "id": "Q0PxVUpx14SL",
        "outputId": "6e93b1fc-22c4-45a0-c833-19f476d4c0d3"
      },
      "source": [
        "def forExample():\n",
        "  \n",
        "  # Definindo o array\n",
        "  names = ['Huguinho', 'John', 'John 2'];\n",
        "\n",
        "  for name in names:\n",
        "    print( ' Aceleração global - ' + name )\n",
        "\n",
        "# Invocando a função\n",
        "forExample()"
      ],
      "execution_count": 3,
      "outputs": [
        {
          "output_type": "stream",
          "text": [
            " Aceleração global - Huguinho\n",
            " Aceleração global - John\n",
            " Aceleração global - John 2\n"
          ],
          "name": "stdout"
        }
      ]
    },
    {
      "cell_type": "code",
      "metadata": {
        "colab": {
          "base_uri": "https://localhost:8080/"
        },
        "id": "69yP6j2j1_ty",
        "outputId": "80fea9c7-d69a-45c1-9761-2362837b2492"
      },
      "source": [
        "def mapExample():\n",
        "\n",
        "  person1 = {\n",
        "      'name' : 'Huguinho',\n",
        "      'title' : 'Expert IT Techonology'\n",
        "  };\n",
        "\n",
        "  for key in person1:\n",
        "    print('key', key, ' | value', person1[ key ] )\n",
        "\n",
        "mapExample()"
      ],
      "execution_count": 4,
      "outputs": [
        {
          "output_type": "stream",
          "text": [
            "key name  | value Huguinho\n",
            "key title  | value Expert IT Techonology\n"
          ],
          "name": "stdout"
        }
      ]
    },
    {
      "cell_type": "code",
      "metadata": {
        "colab": {
          "base_uri": "https://localhost:8080/"
        },
        "id": "poJIaJCh2JiS",
        "outputId": "3ab09b01-e4cc-45b8-a549-9621ae6b6227"
      },
      "source": [
        "def forWithMap():\n",
        "\n",
        "  person1 = {\n",
        "      'name' : 'Huguinho',\n",
        "      'title' : 'Expert IT Techonology'\n",
        "  };\n",
        "\n",
        "  person2 = {\n",
        "      'name' : 'User 2',\n",
        "      'title' : 'Student from everis Aceleration'\n",
        "  };\n",
        "\n",
        "  lista = [];\n",
        "  lista.append( person1 );\n",
        "  lista.append( person2 );\n",
        "\n",
        "  print('tamanho do array', len( lista ) );\n",
        "\n",
        "  for obj in lista:\n",
        "    print('Nome: ', obj['name'], ' | title: ', obj['title'] );\n",
        "\n",
        "forWithMap();"
      ],
      "execution_count": 5,
      "outputs": [
        {
          "output_type": "stream",
          "text": [
            "tamanho do array 2\n",
            "Nome:  Huguinho  | title:  Expert IT Techonology\n",
            "Nome:  User 2  | title:  Student from everis Aceleration\n"
          ],
          "name": "stdout"
        }
      ]
    },
    {
      "cell_type": "markdown",
      "metadata": {
        "id": "8ava6rHYBPPt"
      },
      "source": [
        "### Processamento com pandas ========"
      ]
    },
    {
      "cell_type": "code",
      "metadata": {
        "colab": {
          "base_uri": "https://localhost:8080/"
        },
        "id": "zhbwfCBA4vXH",
        "outputId": "1e0d9a36-6cb3-47e2-ca3f-8cbb544588b3"
      },
      "source": [
        "import pandas as pd\n",
        "\n",
        "def createDataframe():\n",
        "\n",
        "  map = {\n",
        "      \"name\" : [\"Huguinho\", \"Student 1\", \"Student 2\"],\n",
        "      \"age\" : [ 28, 18, 32 ],\n",
        "      \"location\" : [\"Santos\", \"São Paulo\", \"Rio de Janeiro\"]\n",
        "  }\n",
        "\n",
        "  df = pd.DataFrame( map );\n",
        "\n",
        "  print( df );\n",
        "\n",
        "createDataframe()"
      ],
      "execution_count": 6,
      "outputs": [
        {
          "output_type": "stream",
          "text": [
            "        name  age        location\n",
            "0   Huguinho   28          Santos\n",
            "1  Student 1   18       São Paulo\n",
            "2  Student 2   32  Rio de Janeiro\n"
          ],
          "name": "stdout"
        }
      ]
    },
    {
      "cell_type": "code",
      "metadata": {
        "colab": {
          "base_uri": "https://localhost:8080/"
        },
        "id": "JcxsiypI4wi4",
        "outputId": "d7c376df-ff09-4206-e638-6acf7583f446"
      },
      "source": [
        "def iterateDataframe():\n",
        "\n",
        "  map = {\n",
        "      \"name\" : [\"Huguinho\", \"Student 1\", \"Student 2\"],\n",
        "      \"age\" : [ 28, 18, 32 ],\n",
        "      \"location\" : [\"Santos\", \"São Paulo\", \"Rio de Janeiro\"]\n",
        "  }\n",
        "\n",
        "  df = pd.DataFrame( map );\n",
        "\n",
        "  # não indicado para alto volume de dados ( somente para conhecimento )\n",
        "  for index in df.index:\n",
        "    print(\"item\", df[\"name\"][ index ], \" | index\", index  );\n",
        "\n",
        "iterateDataframe()"
      ],
      "execution_count": 7,
      "outputs": [
        {
          "output_type": "stream",
          "text": [
            "item Huguinho  | index 0\n",
            "item Student 1  | index 1\n",
            "item Student 2  | index 2\n"
          ],
          "name": "stdout"
        }
      ]
    },
    {
      "cell_type": "code",
      "metadata": {
        "colab": {
          "base_uri": "https://localhost:8080/"
        },
        "id": "sp8KFblY5AlC",
        "outputId": "b6ff00a7-7b14-47c9-bd84-3d925342d5c4"
      },
      "source": [
        "def addColumnDataframe():\n",
        "\n",
        "  map = {\n",
        "      \"name\" : [\"Huguinho\", \"Student 1\", \"Student 2\"],\n",
        "      \"age\" : [ 28, 18, 32 ],\n",
        "      \"location\" : [\"Santos\", \"São Paulo\", \"Rio de Janeiro\"]\n",
        "  }\n",
        "\n",
        "  df = pd.DataFrame( map );\n",
        "\n",
        "  # adicionando uma nova coluna\n",
        "  address = ['Rua de teste 1', 'Rua de teste 2', 'Rua de teste 3'];\n",
        "\n",
        "  df['address'] = address;\n",
        "\n",
        "  print( df )\n",
        "\n",
        "addColumnDataframe()"
      ],
      "execution_count": 8,
      "outputs": [
        {
          "output_type": "stream",
          "text": [
            "        name  age        location         address\n",
            "0   Huguinho   28          Santos  Rua de teste 1\n",
            "1  Student 1   18       São Paulo  Rua de teste 2\n",
            "2  Student 2   32  Rio de Janeiro  Rua de teste 3\n"
          ],
          "name": "stdout"
        }
      ]
    },
    {
      "cell_type": "code",
      "metadata": {
        "colab": {
          "base_uri": "https://localhost:8080/"
        },
        "id": "atKF4sqG5NhB",
        "outputId": "4d0d8cf6-c242-4399-a88a-b9a1aa47c6f0"
      },
      "source": [
        "def removeColumnDataframe():\n",
        "\n",
        "  map = {\n",
        "      \"name\" : [\"Huguinho\", \"Student 1\", \"Student 2\"],\n",
        "      \"age\" : [ 28, 18, 32 ],\n",
        "      \"location\" : [\"Santos\", \"São Paulo\", \"Rio de Janeiro\"]\n",
        "  }\n",
        "\n",
        "  df = pd.DataFrame( map );\n",
        "\n",
        "  # Removendo a linha pelo índice\n",
        "  df = df.drop(1)\n",
        "\n",
        "  print( df )\n",
        "\n",
        "  print(\"---------------------------\")\n",
        "\n",
        "  # Removendo a coluna\n",
        "  df = df.drop( columns=[\"age\"] );\n",
        "\n",
        "  print ( df );\n",
        "\n",
        "removeColumnDataframe()"
      ],
      "execution_count": 9,
      "outputs": [
        {
          "output_type": "stream",
          "text": [
            "        name  age        location\n",
            "0   Huguinho   28          Santos\n",
            "2  Student 2   32  Rio de Janeiro\n",
            "---------------------------\n",
            "        name        location\n",
            "0   Huguinho          Santos\n",
            "2  Student 2  Rio de Janeiro\n"
          ],
          "name": "stdout"
        }
      ]
    },
    {
      "cell_type": "code",
      "metadata": {
        "colab": {
          "base_uri": "https://localhost:8080/"
        },
        "id": "u7H0x0mq5S5d",
        "outputId": "bbd2796a-fef3-4a6c-8960-1720123dfa47"
      },
      "source": [
        "def filterDataframe():\n",
        "\n",
        "  map = {\n",
        "      \"name\" : [\"Huguinho\", \"Student 1\", \"Student 2\", \"Student 3\", \"Student 4\"],\n",
        "      \"age\" : [ 28, 18, 32, 17, 14 ],\n",
        "      \"location\" : [\"Santos\", \"São Paulo\", \"Rio de Janeiro\", \"São Paulo\", \"São Paulo\"]\n",
        "  }\n",
        "\n",
        "  df = pd.DataFrame( map );\n",
        "\n",
        "  # criando o filtro\n",
        "  filter = df[\"age\"] >= 18;\n",
        "\n",
        "  # Filtrando a lista\n",
        "  filteredList = df[ filter ];\n",
        "\n",
        "  print ( df );\n",
        "  print(\"----------------------\");\n",
        "  print( filteredList )\n",
        "\n",
        "filterDataframe()"
      ],
      "execution_count": 10,
      "outputs": [
        {
          "output_type": "stream",
          "text": [
            "        name  age        location\n",
            "0   Huguinho   28          Santos\n",
            "1  Student 1   18       São Paulo\n",
            "2  Student 2   32  Rio de Janeiro\n",
            "3  Student 3   17       São Paulo\n",
            "4  Student 4   14       São Paulo\n",
            "----------------------\n",
            "        name  age        location\n",
            "0   Huguinho   28          Santos\n",
            "1  Student 1   18       São Paulo\n",
            "2  Student 2   32  Rio de Janeiro\n"
          ],
          "name": "stdout"
        }
      ]
    },
    {
      "cell_type": "code",
      "metadata": {
        "colab": {
          "base_uri": "https://localhost:8080/"
        },
        "id": "nqSf9KE55Yz7",
        "outputId": "2133350f-af93-4082-eae7-1a764b86bac5"
      },
      "source": [
        "def stringDataframe():\n",
        "\n",
        "  map = {\n",
        "      \"name\" : [\"Huguinho\", \"Student 1\", \"Student 2\", \"Student 3\", \"Student 4\"],\n",
        "      \"age\" : [ 28, 18, 32, 17, 14 ],\n",
        "      \"location\" : [\"santos\", \"são Paulo\", \"rio de Janeiro\", \"são Paulo\", \"São Paulo\"]\n",
        "  }\n",
        "\n",
        "  df = pd.DataFrame( map );\n",
        "\n",
        "\n",
        "  print(\"original dataframe\")\n",
        "  print ( df );\n",
        "  print(\"-------------------------------------------\");\n",
        "\n",
        "  # maiúscula\n",
        "  print()\n",
        "  print(\"Upper case\")\n",
        "  print( df[\"location\"].str.upper() )\n",
        "  print(\"--------------------------------------------\");\n",
        "\n",
        "  print()\n",
        "  print(\"Upper in dataframe\")\n",
        "  df[\"location\"] = df[\"location\"].str.upper()\n",
        "  print( df );\n",
        "  print(\"------------------------------------------\");\n",
        "\n",
        "  # Somente a primeira maiuscula\n",
        "  print()\n",
        "  print(\"Capitalize\")\n",
        "  df[\"location\"] = df[\"location\"].str.capitalize()\n",
        "  print( df );\n",
        "  print(\"------------------------------------------\");\n",
        "\n",
        "  # Somente a primeira de cada palavra\n",
        "  print()\n",
        "  print(\"Title\")\n",
        "  df[\"location\"] = df[\"location\"].str.title()\n",
        "  print( df );\n",
        "  print(\"------------------------------------------\");\n",
        "\n",
        "stringDataframe()"
      ],
      "execution_count": 11,
      "outputs": [
        {
          "output_type": "stream",
          "text": [
            "original dataframe\n",
            "        name  age        location\n",
            "0   Huguinho   28          santos\n",
            "1  Student 1   18       são Paulo\n",
            "2  Student 2   32  rio de Janeiro\n",
            "3  Student 3   17       são Paulo\n",
            "4  Student 4   14       São Paulo\n",
            "-------------------------------------------\n",
            "\n",
            "Upper case\n",
            "0            SANTOS\n",
            "1         SÃO PAULO\n",
            "2    RIO DE JANEIRO\n",
            "3         SÃO PAULO\n",
            "4         SÃO PAULO\n",
            "Name: location, dtype: object\n",
            "--------------------------------------------\n",
            "\n",
            "Upper in dataframe\n",
            "        name  age        location\n",
            "0   Huguinho   28          SANTOS\n",
            "1  Student 1   18       SÃO PAULO\n",
            "2  Student 2   32  RIO DE JANEIRO\n",
            "3  Student 3   17       SÃO PAULO\n",
            "4  Student 4   14       SÃO PAULO\n",
            "------------------------------------------\n",
            "\n",
            "Capitalize\n",
            "        name  age        location\n",
            "0   Huguinho   28          Santos\n",
            "1  Student 1   18       São paulo\n",
            "2  Student 2   32  Rio de janeiro\n",
            "3  Student 3   17       São paulo\n",
            "4  Student 4   14       São paulo\n",
            "------------------------------------------\n",
            "\n",
            "Title\n",
            "        name  age        location\n",
            "0   Huguinho   28          Santos\n",
            "1  Student 1   18       São Paulo\n",
            "2  Student 2   32  Rio De Janeiro\n",
            "3  Student 3   17       São Paulo\n",
            "4  Student 4   14       São Paulo\n",
            "------------------------------------------\n"
          ],
          "name": "stdout"
        }
      ]
    },
    {
      "cell_type": "code",
      "metadata": {
        "colab": {
          "base_uri": "https://localhost:8080/"
        },
        "id": "3YOJKk8K5hiI",
        "outputId": "7e974b7d-cb0a-48f4-c8e0-0b027ad731eb"
      },
      "source": [
        "def renameDataframe():\n",
        "\n",
        "  map = {\n",
        "      \"name\" : [\"Huguinho\", \"Student 1\", \"Student 2\", \"Student 3\", \"Student 4\"],\n",
        "      \"age\" : [ 28, 18, 32, 17, 14 ],\n",
        "      \"location\" : [\"Santos\", \"São Paulo\", \"Rio de Janeiro\", \"São Paulo\", \"São Paulo\"]\n",
        "  }\n",
        "\n",
        "  df = pd.DataFrame( map );\n",
        "\n",
        "  # renomeando\n",
        "  df = df.rename(columns={\"age\": \"idade\", \"location\": \"localizacao\"})\n",
        "\n",
        "  print ( df );\n",
        "  print(\"----------------------\");\n",
        "\n",
        "renameDataframe()"
      ],
      "execution_count": 12,
      "outputs": [
        {
          "output_type": "stream",
          "text": [
            "        name  idade     localizacao\n",
            "0   Huguinho     28          Santos\n",
            "1  Student 1     18       São Paulo\n",
            "2  Student 2     32  Rio de Janeiro\n",
            "3  Student 3     17       São Paulo\n",
            "4  Student 4     14       São Paulo\n",
            "----------------------\n"
          ],
          "name": "stdout"
        }
      ]
    },
    {
      "cell_type": "code",
      "metadata": {
        "colab": {
          "base_uri": "https://localhost:8080/"
        },
        "id": "6506l3Se5uaU",
        "outputId": "7730603e-f9e5-4d4c-fc85-bf6e86e92ba1"
      },
      "source": [
        "def jsonDataframe():\n",
        "\n",
        "  map = {\n",
        "      \"name\" : [\"Huguinho\", \"Student 1\", \"Student 2\", \"Student 3\", \"Student 4\"],\n",
        "      \"age\" : [ 28, 18, 32, 17, 14 ]\n",
        "  }\n",
        "\n",
        "  df = pd.DataFrame( map );\n",
        "\n",
        "  # json\n",
        "  json = df.to_json(orient=\"records\")\n",
        "\n",
        "  print ( df );\n",
        "  print(\"----------------------\");\n",
        "  print( json )\n",
        "\n",
        "jsonDataframe()\n"
      ],
      "execution_count": 13,
      "outputs": [
        {
          "output_type": "stream",
          "text": [
            "        name  age\n",
            "0   Huguinho   28\n",
            "1  Student 1   18\n",
            "2  Student 2   32\n",
            "3  Student 3   17\n",
            "4  Student 4   14\n",
            "----------------------\n",
            "[{\"name\":\"Huguinho\",\"age\":28},{\"name\":\"Student 1\",\"age\":18},{\"name\":\"Student 2\",\"age\":32},{\"name\":\"Student 3\",\"age\":17},{\"name\":\"Student 4\",\"age\":14}]\n"
          ],
          "name": "stdout"
        }
      ]
    },
    {
      "cell_type": "code",
      "metadata": {
        "colab": {
          "base_uri": "https://localhost:8080/"
        },
        "id": "uS93BH2r5yt0",
        "outputId": "34c8fb59-eb36-4eb4-9d61-fb67f2a48085"
      },
      "source": [
        "def readCsv():\n",
        "  url = \"https://raw.githubusercontent.com/huguinho-alves/python_aceleracao_everys/main/arquivo.csv\"\n",
        "  df = pd.read_csv( url )\n",
        "\n",
        "  print( df )\n",
        "\n",
        "readCsv()"
      ],
      "execution_count": 15,
      "outputs": [
        {
          "output_type": "stream",
          "text": [
            "       name                title\n",
            "0  Huguinho  Expert IT Architect\n",
            "1  Student1              student\n",
            "2  Student2              student\n"
          ],
          "name": "stdout"
        }
      ]
    },
    {
      "cell_type": "markdown",
      "metadata": {
        "id": "o8C38K2GBZYm"
      },
      "source": [
        "### API Rest Service ============"
      ]
    },
    {
      "cell_type": "code",
      "metadata": {
        "id": "_wfvIBlu54fK"
      },
      "source": [
        "!pip install flask flask-ngrok"
      ],
      "execution_count": null,
      "outputs": []
    },
    {
      "cell_type": "code",
      "metadata": {
        "id": "GAn9O77AB2GO"
      },
      "source": [
        "# Criando o server\n",
        "import json\n",
        "\n",
        "from flask_ngrok import run_with_ngrok\n",
        "from flask import Flask, request, make_response\n",
        "\n",
        "app = Flask(__name__)\n",
        "\n",
        "run_with_ngrok(app)   #starts ngrok when the app is run\n",
        "@app.route(\"/\", methods = ['GET', 'POST', 'DELETE'])\n",
        "def home():\n",
        "\n",
        "    pessoas = [{\"nome\": \"Bruno Rocha\"},\n",
        "               {\"nome\": \"Arjen Lucassen\"},\n",
        "               {\"nome\": \"Anneke van Giersbergen\"},\n",
        "               {\"nome\": \"Steven Wilson\"}]\n",
        "    response = make_response(json.dumps(pessoas))\n",
        "    response.content_type = \"application/json\"\n",
        "\n",
        "    return response\n",
        "\n",
        "    #return \"<h1>Running Flask on Google Colab!</h1>\"\n",
        "  \n",
        "app.run()"
      ],
      "execution_count": null,
      "outputs": []
    }
  ]
}